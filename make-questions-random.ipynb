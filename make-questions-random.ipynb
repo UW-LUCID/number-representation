{
 "cells": [
  {
   "cell_type": "code",
   "execution_count": 86,
   "metadata": {
    "collapsed": false
   },
   "outputs": [
    {
     "name": "stdout",
     "output_type": "stream",
     "text": [
      "192\n",
      "192\n",
      "173 192\n"
     ]
    }
   ],
   "source": [
    "from generate_questions import *\n",
    "from pprint import pprint\n",
    "\n",
    "def shuffle(queries):\n",
    "    out = []\n",
    "    for j in range(4):\n",
    "        for i in range(len(queries)//4):\n",
    "            out += [queries[(i*4 + j) % (len(queries) - 0)]]\n",
    "    return out\n",
    "\n",
    "np.random.seed(30)\n",
    "queries = generate_random_queries(num_questions=192)\n",
    "print(len(queries))\n",
    "queries = shuffle(queries)\n",
    "\n",
    "#pprint(queries)\n",
    "u = []\n",
    "print(len(queries))\n",
    "for q in queries:\n",
    "    if q not in u:\n",
    "        u += [q]\n",
    "print(len(u), len(queries))\n",
    "\n",
    "for i, q in enumerate(queries):\n",
    "    props = [find_properties(n) for n in q]\n",
    "    queries[i] = q + props\n",
    "parts = [queries[len(queries)*i//4:len(queries)*(i+1)//4]\n",
    "         for i in range(4)]\n",
    "\n",
    "import pandas as pd\n",
    "for i, part in enumerate(parts):\n",
    "    csv = pd.DataFrame(part, columns=['top', 'left', 'right', 'top props', 'left props', 'right props'])\n",
    "    csv.to_csv('e-prime/part{i}.csv'.format(i=i))\n"
   ]
  },
  {
   "cell_type": "code",
   "execution_count": 89,
   "metadata": {
    "collapsed": false
   },
   "outputs": [
    {
     "data": {
      "text/html": [
       "<div class=\"vega-embed\" id=\"d75b86b8-80a3-43ad-86b6-e6fcc2099a62\"></div>\n",
       "\n",
       "<style>\n",
       ".vega-embed svg, .vega-embed canvas {\n",
       "  border: 1px dotted gray;\n",
       "}\n",
       "\n",
       ".vega-embed .vega-actions a {\n",
       "  margin-right: 6px;\n",
       "}\n",
       "</style>\n"
      ]
     },
     "metadata": {
      "jupyter-vega": "#d75b86b8-80a3-43ad-86b6-e6fcc2099a62"
     },
     "output_type": "display_data"
    },
    {
     "data": {
      "application/javascript": [
       "var spec = {\"mark\": \"bar\", \"data\": {\"values\": [{\"trial\": \"0\", \"n\": 1}, {\"trial\": \"0\", \"n\": 1}, {\"trial\": \"0\", \"n\": 1}, {\"trial\": \"0\", \"n\": 1}, {\"trial\": \"0\", \"n\": 2}, {\"trial\": \"0\", \"n\": 2}, {\"trial\": \"0\", \"n\": 2}, {\"trial\": \"0\", \"n\": 2}, {\"trial\": \"0\", \"n\": 3}, {\"trial\": \"0\", \"n\": 3}, {\"trial\": \"0\", \"n\": 3}, {\"trial\": \"0\", \"n\": 3}, {\"trial\": \"0\", \"n\": 4}, {\"trial\": \"0\", \"n\": 4}, {\"trial\": \"0\", \"n\": 4}, {\"trial\": \"0\", \"n\": 4}, {\"trial\": \"0\", \"n\": 5}, {\"trial\": \"0\", \"n\": 5}, {\"trial\": \"0\", \"n\": 5}, {\"trial\": \"0\", \"n\": 5}, {\"trial\": \"0\", \"n\": 6}, {\"trial\": \"0\", \"n\": 6}, {\"trial\": \"0\", \"n\": 6}, {\"trial\": \"0\", \"n\": 6}, {\"trial\": \"0\", \"n\": 7}, {\"trial\": \"0\", \"n\": 7}, {\"trial\": \"0\", \"n\": 7}, {\"trial\": \"0\", \"n\": 7}, {\"trial\": \"0\", \"n\": 8}, {\"trial\": \"0\", \"n\": 8}, {\"trial\": \"0\", \"n\": 8}, {\"trial\": \"0\", \"n\": 8}, {\"trial\": \"0\", \"n\": 9}, {\"trial\": \"0\", \"n\": 9}, {\"trial\": \"0\", \"n\": 9}, {\"trial\": \"0\", \"n\": 9}, {\"trial\": \"0\", \"n\": 10}, {\"trial\": \"0\", \"n\": 10}, {\"trial\": \"0\", \"n\": 10}, {\"trial\": \"0\", \"n\": 10}, {\"trial\": \"0\", \"n\": 11}, {\"trial\": \"0\", \"n\": 11}, {\"trial\": \"0\", \"n\": 11}, {\"trial\": \"0\", \"n\": 11}, {\"trial\": \"0\", \"n\": 12}, {\"trial\": \"0\", \"n\": 12}, {\"trial\": \"0\", \"n\": 12}, {\"trial\": \"0\", \"n\": 12}, {\"trial\": \"1\", \"n\": 1}, {\"trial\": \"1\", \"n\": 1}, {\"trial\": \"1\", \"n\": 1}, {\"trial\": \"1\", \"n\": 1}, {\"trial\": \"1\", \"n\": 2}, {\"trial\": \"1\", \"n\": 2}, {\"trial\": \"1\", \"n\": 2}, {\"trial\": \"1\", \"n\": 2}, {\"trial\": \"1\", \"n\": 3}, {\"trial\": \"1\", \"n\": 3}, {\"trial\": \"1\", \"n\": 3}, {\"trial\": \"1\", \"n\": 3}, {\"trial\": \"1\", \"n\": 4}, {\"trial\": \"1\", \"n\": 4}, {\"trial\": \"1\", \"n\": 4}, {\"trial\": \"1\", \"n\": 4}, {\"trial\": \"1\", \"n\": 5}, {\"trial\": \"1\", \"n\": 5}, {\"trial\": \"1\", \"n\": 5}, {\"trial\": \"1\", \"n\": 5}, {\"trial\": \"1\", \"n\": 6}, {\"trial\": \"1\", \"n\": 6}, {\"trial\": \"1\", \"n\": 6}, {\"trial\": \"1\", \"n\": 6}, {\"trial\": \"1\", \"n\": 7}, {\"trial\": \"1\", \"n\": 7}, {\"trial\": \"1\", \"n\": 7}, {\"trial\": \"1\", \"n\": 7}, {\"trial\": \"1\", \"n\": 8}, {\"trial\": \"1\", \"n\": 8}, {\"trial\": \"1\", \"n\": 8}, {\"trial\": \"1\", \"n\": 8}, {\"trial\": \"1\", \"n\": 9}, {\"trial\": \"1\", \"n\": 9}, {\"trial\": \"1\", \"n\": 9}, {\"trial\": \"1\", \"n\": 9}, {\"trial\": \"1\", \"n\": 10}, {\"trial\": \"1\", \"n\": 10}, {\"trial\": \"1\", \"n\": 10}, {\"trial\": \"1\", \"n\": 10}, {\"trial\": \"1\", \"n\": 11}, {\"trial\": \"1\", \"n\": 11}, {\"trial\": \"1\", \"n\": 11}, {\"trial\": \"1\", \"n\": 11}, {\"trial\": \"1\", \"n\": 12}, {\"trial\": \"1\", \"n\": 12}, {\"trial\": \"1\", \"n\": 12}, {\"trial\": \"1\", \"n\": 12}, {\"trial\": \"2\", \"n\": 1}, {\"trial\": \"2\", \"n\": 1}, {\"trial\": \"2\", \"n\": 1}, {\"trial\": \"2\", \"n\": 1}, {\"trial\": \"2\", \"n\": 2}, {\"trial\": \"2\", \"n\": 2}, {\"trial\": \"2\", \"n\": 2}, {\"trial\": \"2\", \"n\": 2}, {\"trial\": \"2\", \"n\": 3}, {\"trial\": \"2\", \"n\": 3}, {\"trial\": \"2\", \"n\": 3}, {\"trial\": \"2\", \"n\": 3}, {\"trial\": \"2\", \"n\": 4}, {\"trial\": \"2\", \"n\": 4}, {\"trial\": \"2\", \"n\": 4}, {\"trial\": \"2\", \"n\": 4}, {\"trial\": \"2\", \"n\": 5}, {\"trial\": \"2\", \"n\": 5}, {\"trial\": \"2\", \"n\": 5}, {\"trial\": \"2\", \"n\": 5}, {\"trial\": \"2\", \"n\": 6}, {\"trial\": \"2\", \"n\": 6}, {\"trial\": \"2\", \"n\": 6}, {\"trial\": \"2\", \"n\": 6}, {\"trial\": \"2\", \"n\": 7}, {\"trial\": \"2\", \"n\": 7}, {\"trial\": \"2\", \"n\": 7}, {\"trial\": \"2\", \"n\": 7}, {\"trial\": \"2\", \"n\": 8}, {\"trial\": \"2\", \"n\": 8}, {\"trial\": \"2\", \"n\": 8}, {\"trial\": \"2\", \"n\": 8}, {\"trial\": \"2\", \"n\": 9}, {\"trial\": \"2\", \"n\": 9}, {\"trial\": \"2\", \"n\": 9}, {\"trial\": \"2\", \"n\": 9}, {\"trial\": \"2\", \"n\": 10}, {\"trial\": \"2\", \"n\": 10}, {\"trial\": \"2\", \"n\": 10}, {\"trial\": \"2\", \"n\": 10}, {\"trial\": \"2\", \"n\": 11}, {\"trial\": \"2\", \"n\": 11}, {\"trial\": \"2\", \"n\": 11}, {\"trial\": \"2\", \"n\": 11}, {\"trial\": \"2\", \"n\": 12}, {\"trial\": \"2\", \"n\": 12}, {\"trial\": \"2\", \"n\": 12}, {\"trial\": \"2\", \"n\": 12}, {\"trial\": \"3\", \"n\": 1}, {\"trial\": \"3\", \"n\": 1}, {\"trial\": \"3\", \"n\": 1}, {\"trial\": \"3\", \"n\": 1}, {\"trial\": \"3\", \"n\": 2}, {\"trial\": \"3\", \"n\": 2}, {\"trial\": \"3\", \"n\": 2}, {\"trial\": \"3\", \"n\": 2}, {\"trial\": \"3\", \"n\": 3}, {\"trial\": \"3\", \"n\": 3}, {\"trial\": \"3\", \"n\": 3}, {\"trial\": \"3\", \"n\": 3}, {\"trial\": \"3\", \"n\": 4}, {\"trial\": \"3\", \"n\": 4}, {\"trial\": \"3\", \"n\": 4}, {\"trial\": \"3\", \"n\": 4}, {\"trial\": \"3\", \"n\": 5}, {\"trial\": \"3\", \"n\": 5}, {\"trial\": \"3\", \"n\": 5}, {\"trial\": \"3\", \"n\": 5}, {\"trial\": \"3\", \"n\": 6}, {\"trial\": \"3\", \"n\": 6}, {\"trial\": \"3\", \"n\": 6}, {\"trial\": \"3\", \"n\": 6}, {\"trial\": \"3\", \"n\": 7}, {\"trial\": \"3\", \"n\": 7}, {\"trial\": \"3\", \"n\": 7}, {\"trial\": \"3\", \"n\": 7}, {\"trial\": \"3\", \"n\": 8}, {\"trial\": \"3\", \"n\": 8}, {\"trial\": \"3\", \"n\": 8}, {\"trial\": \"3\", \"n\": 8}, {\"trial\": \"3\", \"n\": 9}, {\"trial\": \"3\", \"n\": 9}, {\"trial\": \"3\", \"n\": 9}, {\"trial\": \"3\", \"n\": 9}, {\"trial\": \"3\", \"n\": 10}, {\"trial\": \"3\", \"n\": 10}, {\"trial\": \"3\", \"n\": 10}, {\"trial\": \"3\", \"n\": 10}, {\"trial\": \"3\", \"n\": 11}, {\"trial\": \"3\", \"n\": 11}, {\"trial\": \"3\", \"n\": 11}, {\"trial\": \"3\", \"n\": 11}, {\"trial\": \"3\", \"n\": 12}, {\"trial\": \"3\", \"n\": 12}, {\"trial\": \"3\", \"n\": 12}, {\"trial\": \"3\", \"n\": 12}]}, \"config\": {\"cell\": {\"width\": 500, \"height\": 350}}, \"encoding\": {\"y\": {\"type\": \"quantitative\", \"aggregate\": \"count\", \"field\": \"n\"}, \"color\": {\"type\": \"nominal\", \"field\": \"trial\"}, \"x\": {\"type\": \"nominal\", \"field\": \"n\"}}};\n",
       "var selector = \"#d75b86b8-80a3-43ad-86b6-e6fcc2099a62\";\n",
       "var type = \"vega-lite\";\n",
       "\n",
       "var output_area = this;\n",
       "require(['nbextensions/jupyter-vega/index'], function(vega) {\n",
       "  vega.render(selector, spec, type, output_area);\n",
       "}, function (err) {\n",
       "  if (err.requireType !== 'scripterror') {\n",
       "    throw(err);\n",
       "  }\n",
       "});\n"
      ]
     },
     "metadata": {
      "jupyter-vega": "#d75b86b8-80a3-43ad-86b6-e6fcc2099a62"
     },
     "output_type": "display_data"
    },
    {
     "data": {
      "image/png": "[encoded data removed]"
     },
     "metadata": {
      "jupyter-vega": "#d75b86b8-80a3-43ad-86b6-e6fcc2099a62"
     },
     "output_type": "display_data"
    }
   ],
   "source": [
    "df = [{'n': q[0], 'trial': str(i)}\n",
    "     for i, part in enumerate(parts)\n",
    "     for q in part]\n",
    "\n",
    "df = pd.DataFrame(df)\n",
    "import altair\n",
    "c = altair.Chart(df).mark_bar().encode(\n",
    "        x='n:N',\n",
    "        y='count(n)',\n",
    "        color='trial'\n",
    ")\n",
    "#print(\"Numberof times a number appears in 4 different trials\")\n",
    "c"
   ]
  },
  {
   "cell_type": "code",
   "execution_count": null,
   "metadata": {
    "collapsed": true
   },
   "outputs": [],
   "source": []
  }
 ],
 "metadata": {
  "kernelspec": {
   "display_name": "Python 3",
   "language": "python",
   "name": "python3"
  },
  "language_info": {
   "codemirror_mode": {
    "name": "ipython",
    "version": 3
   },
   "file_extension": ".py",
   "mimetype": "text/x-python",
   "name": "python",
   "nbconvert_exporter": "python",
   "pygments_lexer": "ipython3",
   "version": "3.5.1"
  }
 },
 "nbformat": 4,
 "nbformat_minor": 0
}
